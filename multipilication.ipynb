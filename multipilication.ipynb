{
  "nbformat": 4,
  "nbformat_minor": 0,
  "metadata": {
    "colab": {
      "provenance": [],
      "authorship_tag": "ABX9TyMaBPP8Qia1a9iBWEJiDoD8",
      "include_colab_link": true
    },
    "kernelspec": {
      "name": "python3",
      "display_name": "Python 3"
    },
    "language_info": {
      "name": "python"
    }
  },
  "cells": [
    {
      "cell_type": "markdown",
      "metadata": {
        "id": "view-in-github",
        "colab_type": "text"
      },
      "source": [
        "<a href=\"https://colab.research.google.com/github/vignesh9847/led-chaser-in-ardino/blob/main/Untitled7.ipynb\" target=\"_parent\"><img src=\"https://colab.research.google.com/assets/colab-badge.svg\" alt=\"Open In Colab\"/></a>"
      ]
    },
    {
      "cell_type": "code",
      "execution_count": 2,
      "metadata": {
        "colab": {
          "base_uri": "https://localhost:8080/"
        },
        "id": "1pBZGnPHFFFJ",
        "outputId": "e2187701-5839-498f-eda3-a01ceccc834f"
      },
      "outputs": [
        {
          "output_type": "stream",
          "name": "stdout",
          "text": [
            "134\n"
          ]
        }
      ],
      "source": [
        "a=78\n",
        "b=56\n",
        "print(a+b)"
      ]
    },
    {
      "cell_type": "code",
      "source": [
        "a=int(input())\n",
        "b=int(input())\n",
        "print(a+b)6\n"
      ],
      "metadata": {
        "colab": {
          "base_uri": "https://localhost:8080/"
        },
        "id": "DP_ee12dFyt1",
        "outputId": "f28af63f-2f3a-4cc8-f1b3-e58dcb9aebed"
      },
      "execution_count": 3,
      "outputs": [
        {
          "output_type": "stream",
          "name": "stdout",
          "text": [
            "3\n",
            "5\n",
            "8\n"
          ]
        }
      ]
    },
    {
      "cell_type": "code",
      "source": [
        "a=int(input(\"enter first number:\"))\n",
        "b=int(input(\"enter second number:\"))\n",
        "\n",
        "if a<b:\n",
        "   print(\"first number is less than second\")\n",
        "elif a>b:\n",
        "   print(\"first number is greater than second\")\n",
        "else:\n",
        "   print(\"first number is equal to second\")"
      ],
      "metadata": {
        "colab": {
          "base_uri": "https://localhost:8080/"
        },
        "id": "AgyqaVlxGJ0c",
        "outputId": "80d2d4da-7353-446d-93c7-a43d7e7fc0da"
      },
      "execution_count": 5,
      "outputs": [
        {
          "output_type": "stream",
          "name": "stdout",
          "text": [
            "enter first number:5\n",
            "enter second number:7\n",
            "first number is less than second\n"
          ]
        }
      ]
    },
    {
      "cell_type": "code",
      "source": [
        "number =int(input())\n",
        "\n",
        "print(\"multipilication table for\",number,\":\")\n",
        "for i in range(1,11):\n",
        "   result=number * i\n",
        "   print(f+\"{number}X{i}={result}\")"
      ],
      "metadata": {
        "colab": {
          "base_uri": "https://localhost:8080/"
        },
        "id": "PQ-3Fkl7KKj-",
        "outputId": "6004c249-853d-4ef5-cf29-f81dfdda9073"
      },
      "execution_count": 9,
      "outputs": [
        {
          "output_type": "stream",
          "name": "stdout",
          "text": [
            "8\n",
            "multipilication table for 8 :\n",
            "8X1=8\n",
            "8X2=16\n",
            "8X3=24\n",
            "8X4=32\n",
            "8X5=40\n",
            "8X6=48\n",
            "8X7=56\n",
            "8X8=64\n",
            "8X9=72\n",
            "8X10=80\n"
          ]
        }
      ]
    }
  ]
}
